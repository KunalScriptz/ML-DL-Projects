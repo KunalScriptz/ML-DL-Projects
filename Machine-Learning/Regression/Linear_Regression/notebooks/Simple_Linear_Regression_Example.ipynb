{
 "cells": [
  {
   "cell_type": "markdown",
   "id": "ffd64afa",
   "metadata": {},
   "source": [
    "### 🧪 PROJECT: Predicting Sales using TV, Radio, and Newspaper Ads"
   ]
  },
  {
   "cell_type": "markdown",
   "id": "f3016df6",
   "metadata": {},
   "source": [
    "##### ✅ STEP 1: Load the Data"
   ]
  },
  {
   "cell_type": "code",
   "execution_count": null,
   "id": "initial_id",
   "metadata": {
    "collapsed": true
   },
   "outputs": [],
   "source": [
    "import pandas as pd\n",
    "df = pd.read_csv(\"../dataset/advertising.csv\")"
   ]
  },
  {
   "cell_type": "markdown",
   "id": "27711883",
   "metadata": {},
   "source": [
    "##### 🔍 STEP 2: Understand the Data"
   ]
  },
  {
   "cell_type": "code",
   "execution_count": null,
   "id": "c53a34ac",
   "metadata": {},
   "outputs": [],
   "source": [
    "df.head()       # look at the first few rows\n",
    "df.info()       # check data types and missing values\n",
    "df.describe()   # summary stats"
   ]
  },
  {
   "cell_type": "markdown",
   "id": "3fd1d779",
   "metadata": {},
   "source": [
    "#### 📊 Project Overview: Advertising Dataset\n",
    "\n",
    "We have 4 columns in this dataset:\n",
    "\n",
    "- **TV**: Money spent on the TV marketing (in thousands of dollars)\n",
    "- **Radio**: Money spent on the radio marketing (in thousands of dollars)\n",
    "- **Newspaper**: Money spent on the newspaper marketing (in thousands of dollars)\n",
    "- **Sales**: Units sold (in thousands)\n",
    "\n",
    "---\n",
    "\n",
    "#### 🔍 Variable Types\n",
    "\n",
    "- **TV, Radio, Newspaper** are **independent variables (X)**\n",
    "- **Sales** is the **dependent variable (Y)** — our target\n",
    "\n",
    "---\n",
    "\n",
    "#### ❓ Key Questions\n",
    "\n",
    "- Just having multiple variables doesn’t guarantee that we should use multiple linear regression.\n",
    "- Do **TV, Radio, and Newspaper** each have a relationship with **Sales**?\n",
    "- Are any of them **useless** (i.e., have no correlation or effect)?\n",
    "- Do any of them **overlap too much** (i.e., multicollinearity)?\n",
    "\n",
    "---\n",
    "\n",
    "#### 💡 Assumptions\n",
    "\n",
    "- We are assuming **Sales** is measured in **USD (thousands)**.\n",
    "- The ad spending columns are also in **thousands of USD**.\n",
    "- Since it is an advertising dataset, it tracks how money spent on **TV, Radio, and Newspaper ads** affects **sales**.\n",
    "\n",
    "---\n",
    "\n",
    "#### 🎯 Objective\n",
    "\n",
    "> To analyze how spending more on **TV, Radio, or Newspaper** ads affects how many **units we sell**.\n",
    "\n",
    "---\n",
    "\n",
    "#### ✅ Data Quality Check\n",
    "\n",
    "- No null or missing values are present.\n",
    "- Proceeding to **data visualization and exploration**.\n"
   ]
  },
  {
   "cell_type": "markdown",
   "id": "951a5e1e",
   "metadata": {},
   "source": [
    "##### 📊 STEP 3: Visualize Relationships (EDA)\n"
   ]
  },
  {
   "cell_type": "code",
   "execution_count": null,
   "id": "a5e04f94",
   "metadata": {},
   "outputs": [],
   "source": [
    "import seaborn as sns\n",
    "import matplotlib.pyplot as plt\n",
    "\n",
    "# sns.pairplot(df)  # scatter plots between each pair\n",
    "sns.heatmap(df.corr(), annot=True)  # correlation matrix\n"
   ]
  },
  {
   "cell_type": "markdown",
   "id": "39c0ac65",
   "metadata": {},
   "source": [
    "##### From above Heatmap\n",
    "- We can conclude TV vs Sales\t--> \t✅ Very strong positive relationship — spending on TV ads is highly related to increased sales.\n",
    "- Radio vs Sales\t--> ✅ Moderate positive relationship — radio also helps, but not as much as TV.\n",
    "- Newspaper vs Sales --> \t⚠️ Weak relationship — newspaper ads don't really help much.\n",
    "- TV vs Radio/Newspaper -> 🔄 Very low — these ad budgets don’t influence each other."
   ]
  },
  {
   "cell_type": "markdown",
   "id": "dfb35b0a",
   "metadata": {},
   "source": [
    "##### 🎯 So what can you learn?\n",
    "- TV ads are the most powerful predictor of Sales.\n",
    "\n",
    "- Newspaper ads seem almost useless in comparison (and may not be needed in the model).\n",
    "\n",
    "- No strong multicollinearity between features — which is good."
   ]
  },
  {
   "cell_type": "markdown",
   "id": "314e8359",
   "metadata": {},
   "source": [
    "##### Let's take only TV as that is the only one which has good relation towards sales. So we have 1 independent and 1 dependent, so it is a simple linear regression."
   ]
  },
  {
   "cell_type": "markdown",
   "id": "946736b3",
   "metadata": {},
   "source": [
    "##### 🧮 STEP 4: Choosing Simple Linear Regression"
   ]
  },
  {
   "cell_type": "code",
   "execution_count": null,
   "id": "b3a6117e",
   "metadata": {},
   "outputs": [],
   "source": [
    "X = df[['TV']]\n",
    "y = df['Sales']\n"
   ]
  },
  {
   "cell_type": "markdown",
   "id": "9d2c2724",
   "metadata": {},
   "source": [
    "##### ⚙️ STEP 5: Split the Data\n",
    "\n"
   ]
  },
  {
   "cell_type": "code",
   "execution_count": null,
   "id": "dbca8f9b",
   "metadata": {},
   "outputs": [],
   "source": [
    "from sklearn.model_selection import train_test_split\n",
    "X_train, X_test, y_train, y_test = train_test_split(X,y,train_size=0.7,random_state=42)\n"
   ]
  },
  {
   "cell_type": "markdown",
   "id": "d07fa176",
   "metadata": {},
   "source": [
    "##### 🧠 STEP 6: Train the Model"
   ]
  },
  {
   "cell_type": "code",
   "execution_count": null,
   "id": "f93007d9",
   "metadata": {},
   "outputs": [],
   "source": [
    "from sklearn.linear_model import LinearRegression\n",
    "model = LinearRegression()\n",
    "model.fit(X_train,y_train)"
   ]
  },
  {
   "cell_type": "markdown",
   "id": "ff3dc6a8",
   "metadata": {},
   "source": [
    "##### 🧾 STEP 7: Check Model Coefficients\n"
   ]
  },
  {
   "cell_type": "code",
   "execution_count": null,
   "id": "1d98b367",
   "metadata": {},
   "outputs": [],
   "source": [
    "print(\"Intercept:\", model.intercept_)\n",
    "print(\"Coefficients:\", model.coef_)\n"
   ]
  },
  {
   "cell_type": "markdown",
   "id": "a12f501a",
   "metadata": {},
   "source": [
    "##### 📈 STEP 8: Make Predictions\n",
    "\n"
   ]
  },
  {
   "cell_type": "code",
   "execution_count": null,
   "id": "8fe3c417",
   "metadata": {},
   "outputs": [],
   "source": [
    "y_pred = model.predict(X_test)\n",
    "y_pred\n"
   ]
  },
  {
   "cell_type": "markdown",
   "id": "46debd08",
   "metadata": {},
   "source": [
    "##### 📊 STEP 9: Evaluate the Model"
   ]
  },
  {
   "cell_type": "code",
   "execution_count": null,
   "id": "ce0c688c",
   "metadata": {},
   "outputs": [],
   "source": [
    "from sklearn.metrics import mean_squared_error, r2_score\n",
    "\n",
    "print(\"MSE:\", mean_squared_error(y_test, y_pred))\n",
    "print(\"R2 Score:\", r2_score(y_test, y_pred))\n",
    "\n",
    "# Use MAE (Mean Absolute Error or Distance Based) or RMSE --> if you want to know how wrong your model (on average)\n",
    "# Model Performance --> R2\n",
    "# But strictly speaking, the model internally uses MSE for optimization\n",
    "# MAE, MSE - tells us the average of how wrong/ how far our predicition is\n",
    "# R2 tells us the model performance and it also says how well the model explains the data (closer to 1 = better)"
   ]
  },
  {
   "cell_type": "markdown",
   "id": "648239c4",
   "metadata": {},
   "source": [
    "##### 📉 STEP 10: Visualize Predictions\n"
   ]
  },
  {
   "cell_type": "code",
   "execution_count": null,
   "id": "b8340833",
   "metadata": {},
   "outputs": [],
   "source": [
    "import matplotlib.pyplot as plt\n",
    "\n",
    "plt.figure(figsize=(8, 5))\n",
    "plt.scatter(y_test, y_pred)\n",
    "plt.xlabel(\"Actual Sales\")\n",
    "plt.ylabel(\"Predicted Sales\")\n",
    "plt.title(\"Actual vs Predicted\")\n",
    "plt.grid(True)\n",
    "\n",
    "# Save the plot before showing it\n",
    "plt.savefig(\"../images/actual_vs_predicted.png\")  # <-- saves the plot\n",
    "plt.show()\n"
   ]
  },
  {
   "cell_type": "code",
   "execution_count": null,
   "id": "062e38bf",
   "metadata": {},
   "outputs": [],
   "source": []
  }
 ],
 "metadata": {
  "kernelspec": {
   "display_name": ".venv",
   "language": "python",
   "name": "python3"
  },
  "language_info": {
   "codemirror_mode": {
    "name": "ipython",
    "version": 3
   },
   "file_extension": ".py",
   "mimetype": "text/x-python",
   "name": "python",
   "nbconvert_exporter": "python",
   "pygments_lexer": "ipython3",
   "version": "3.12.3"
  }
 },
 "nbformat": 4,
 "nbformat_minor": 5
}
