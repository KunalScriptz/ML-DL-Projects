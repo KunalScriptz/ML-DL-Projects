{
 "cells": [
  {
   "cell_type": "markdown",
   "metadata": {},
   "source": [
    "### 🧪 PROJECT: Facebook Live sellers in Thailand"
   ]
  },
  {
   "cell_type": "markdown",
   "metadata": {},
   "source": [
    "#### ✅ STEP 1: Load the Data"
   ]
  },
  {
   "cell_type": "code",
   "execution_count": 22,
   "metadata": {},
   "outputs": [],
   "source": [
    "import pandas as pd\n",
    "\n",
    "df = pd.read_csv(\"../dataset/Live.csv\")"
   ]
  },
  {
   "cell_type": "markdown",
   "metadata": {},
   "source": [
    "#### 🔍 STEP 2: Understand the Data"
   ]
  },
  {
   "cell_type": "code",
   "execution_count": null,
   "metadata": {},
   "outputs": [],
   "source": [
    "df.head()  # look at the first few rows\n",
    "df.info()  # check data types and missing values\n",
    "df.describe()  # summary stats"
   ]
  },
  {
   "cell_type": "markdown",
   "metadata": {},
   "source": [
    "##### Check for missing values in dataset\n"
   ]
  },
  {
   "cell_type": "code",
   "execution_count": null,
   "metadata": {},
   "outputs": [],
   "source": [
    "df.isnull().sum()"
   ]
  },
  {
   "cell_type": "markdown",
   "metadata": {},
   "source": [
    "##### We can see that there are 4 redundant columns in the dataset. We should drop them before proceeding further."
   ]
  },
  {
   "cell_type": "code",
   "execution_count": 25,
   "metadata": {},
   "outputs": [],
   "source": [
    "df.drop([\"Column1\", \"Column2\", \"Column3\", \"Column4\"], axis=1, inplace=True)"
   ]
  },
  {
   "cell_type": "code",
   "execution_count": null,
   "metadata": {},
   "outputs": [],
   "source": [
    "# Again view summary of dataset¶\n",
    "df.info()"
   ]
  },
  {
   "cell_type": "markdown",
   "metadata": {},
   "source": [
    "##### As we can see, there are 3 objects and remaining others are integer, so we do have some categorical data in this dataset"
   ]
  },
  {
   "cell_type": "markdown",
   "metadata": {},
   "source": [
    "##### Let's explore the 3 variables which are of object datatype"
   ]
  },
  {
   "cell_type": "markdown",
   "metadata": {},
   "source": [
    "##### Explore Status ID variable"
   ]
  },
  {
   "cell_type": "code",
   "execution_count": null,
   "metadata": {},
   "outputs": [],
   "source": [
    "len(df[\"status_id\"].unique())"
   ]
  },
  {
   "cell_type": "markdown",
   "metadata": {},
   "source": [
    "##### Well, there are 6997 unique status id's are there for every transcation but total records are 7050. Thus this is not a variable that we can use. Hence, I will drop it."
   ]
  },
  {
   "cell_type": "markdown",
   "metadata": {},
   "source": [
    "##### Explore Status published variable"
   ]
  },
  {
   "cell_type": "code",
   "execution_count": null,
   "metadata": {},
   "outputs": [],
   "source": [
    "df[\"status_published\"].unique()"
   ]
  },
  {
   "cell_type": "code",
   "execution_count": null,
   "metadata": {},
   "outputs": [],
   "source": [
    "# view how many different types of variables are there\n",
    "len(df[\"status_published\"].unique())\n"
   ]
  },
  {
   "cell_type": "markdown",
   "metadata": {},
   "source": [
    "##### Again, we can see that there are 6913 unique labels in the status_published variable. The total number of instances in the dataset is 7050. So, it is also a approximately a unique identifier for each of the instances. Thus this is not a variable that we can use. Hence, I will drop it also."
   ]
  },
  {
   "cell_type": "markdown",
   "metadata": {},
   "source": [
    "##### Explore status_type variable"
   ]
  },
  {
   "cell_type": "code",
   "execution_count": null,
   "metadata": {},
   "outputs": [],
   "source": [
    "df[\"status_type\"].unique()"
   ]
  },
  {
   "cell_type": "markdown",
   "metadata": {},
   "source": [
    "##### We can see that there are 4 categories of labels in the status_type variable.\n",
    "\n"
   ]
  },
  {
   "cell_type": "code",
   "execution_count": 31,
   "metadata": {},
   "outputs": [],
   "source": [
    "# Drop status_id and status_published variable from the dataset¶\n",
    "df.drop([\"status_id\", \"status_published\"], axis=1, inplace=True)"
   ]
  },
  {
   "cell_type": "markdown",
   "metadata": {},
   "source": [
    "#### 🛠️ STEP 3: Feature Engineering"
   ]
  },
  {
   "cell_type": "markdown",
   "metadata": {},
   "source": [
    "##### Convert categorical variable into integers"
   ]
  },
  {
   "cell_type": "code",
   "execution_count": 32,
   "metadata": {},
   "outputs": [],
   "source": [
    "from sklearn.preprocessing import LabelEncoder\n",
    "\n",
    "X = df\n",
    "y = df[\"status_type\"]\n",
    "\n",
    "le = LabelEncoder()\n",
    "X[\"status_type\"] = le.fit_transform(X[\"status_type\"])\n",
    "\n",
    "y = le.transform(y)\n"
   ]
  },
  {
   "cell_type": "code",
   "execution_count": null,
   "metadata": {},
   "outputs": [],
   "source": [
    "X.info()"
   ]
  },
  {
   "cell_type": "code",
   "execution_count": null,
   "metadata": {},
   "outputs": [],
   "source": [
    "X[\"status_type\"].unique()"
   ]
  },
  {
   "cell_type": "markdown",
   "metadata": {},
   "source": [
    "##### Preview the final dataset now"
   ]
  },
  {
   "cell_type": "code",
   "execution_count": null,
   "metadata": {},
   "outputs": [],
   "source": [
    "X.head()"
   ]
  },
  {
   "cell_type": "markdown",
   "metadata": {},
   "source": [
    "##### Feature Scaling is Required in K-Means Clustering because it groups data based on Euclidean distance.\n",
    "##### Features with larger ranges will dominate the distance calculation. So its highly recommended to do feature scaling. \n",
    "##### Use MinMaxScaling Technique that Scales all values to a range between 0 and 1"
   ]
  },
  {
   "cell_type": "code",
   "execution_count": 36,
   "metadata": {},
   "outputs": [],
   "source": [
    "from sklearn.preprocessing import MinMaxScaler\n",
    "\n",
    "cols = X.columns\n",
    "ms = MinMaxScaler()\n",
    "X = ms.fit_transform(X)"
   ]
  },
  {
   "cell_type": "code",
   "execution_count": null,
   "metadata": {},
   "outputs": [],
   "source": [
    "X = pd.DataFrame(X, columns=cols)\n",
    "X"
   ]
  },
  {
   "cell_type": "markdown",
   "metadata": {},
   "source": [
    "#### 📊 STEP 4: Modeling & Clustering"
   ]
  },
  {
   "cell_type": "code",
   "execution_count": null,
   "metadata": {},
   "outputs": [],
   "source": [
    "from sklearn.cluster import KMeans\n",
    "\n",
    "kmeans = KMeans(n_clusters=2, random_state=0)\n",
    "\n",
    "kmeans.fit(X)"
   ]
  },
  {
   "cell_type": "code",
   "execution_count": null,
   "metadata": {},
   "outputs": [],
   "source": [
    "kmeans.cluster_centers_\n"
   ]
  },
  {
   "cell_type": "code",
   "execution_count": null,
   "metadata": {},
   "outputs": [],
   "source": [
    "from sklearn.cluster import KMeans\n",
    "import matplotlib.pyplot as plt\n",
    "\n",
    "cs = []\n",
    "for i in range(1, 11):\n",
    "    kmeans = KMeans(\n",
    "        n_clusters=i, init=\"k-means++\", max_iter=300, n_init=10, random_state=0\n",
    "    )\n",
    "    kmeans.fit(X)\n",
    "    cs.append(kmeans.inertia_)\n",
    "plt.plot(range(1, 11), cs)\n",
    "plt.title(\"The Elbow Method\")\n",
    "plt.xlabel(\"Number of clusters\")\n",
    "plt.ylabel(\"CS\")\n",
    "plt.savefig(\"../images/elbow_method_optimal_k_value.png\")"
   ]
  },
  {
   "cell_type": "markdown",
   "metadata": {},
   "source": [
    "#### 📈5. Visualization"
   ]
  },
  {
   "cell_type": "code",
   "execution_count": null,
   "metadata": {},
   "outputs": [],
   "source": [
    "import matplotlib.pyplot as plt\n",
    "from sklearn.decomposition import PCA\n",
    "\n",
    "# Reduce dimensions to 2D for visualization\n",
    "pca = PCA(n_components=2)\n",
    "X_pca = pca.fit_transform(X)\n",
    "\n",
    "# Predict cluster labels\n",
    "labels = kmeans.predict(X)\n",
    "\n",
    "# Plot\n",
    "plt.figure(figsize=(8, 6))\n",
    "plt.scatter(X_pca[:, 0], X_pca[:, 1], c=labels, cmap=\"viridis\", alpha=0.6)\n",
    "plt.scatter(\n",
    "    pca.transform(kmeans.cluster_centers_)[:, 0],\n",
    "    pca.transform(kmeans.cluster_centers_)[:, 1],\n",
    "    c=\"red\",\n",
    "    marker=\"X\",\n",
    "    s=200,\n",
    "    label=\"Centroids\",\n",
    ")\n",
    "plt.title(\"📊 K-Means Clustering Results (2D PCA View)\")\n",
    "plt.xlabel(\"PCA Component 1\")\n",
    "plt.ylabel(\"PCA Component 2\")\n",
    "plt.legend()\n",
    "plt.grid(True)\n",
    "plt.show()\n"
   ]
  },
  {
   "cell_type": "markdown",
   "metadata": {},
   "source": [
    "## 📌 Conclusion: What We Learned from K-Means Clustering\n",
    "\n",
    "In this project, we applied **K-Means clustering** to segment Facebook Live Seller posts based on various engagement metrics such as reactions, comments, shares, and different reaction types (likes, loves, wows, etc.).\n",
    "\n",
    "### 🎯 Purpose of Clustering:\n",
    "- Since we had no predefined labels, clustering helped us uncover **natural groupings** within the data.\n",
    "- It allowed us to identify **patterns of user interaction** without supervision.\n",
    "\n",
    "### 🧠 Key Insights:\n",
    "- Using the **Elbow Method**, we determined that the optimal number of clusters is likely **3**, as the inertia drops sharply up to that point and flattens afterward.\n",
    "- Each cluster represents a distinct **behavioral profile** of Facebook posts:\n",
    "  - Some clusters contain **highly engaging posts** (many reactions, likes, shares).\n",
    "  - Others consist of **low-engagement or ignored posts**.\n",
    "  - Some may be dominated by a specific **status type** (e.g., images, videos, links), which perform differently.\n",
    "\n",
    "### 📊 Business Value:\n",
    "- These clusters can help **content creators or marketers** tailor their strategies:\n",
    "  - Focus on content types and styles that fall into **high-performing clusters**.\n",
    "  - Re-evaluate or avoid formats associated with **low-engagement clusters**.\n",
    "- **Cluster labels** can also be used as a new feature in future **supervised models** (e.g., predicting post performance).\n",
    "\n",
    "### ✅ Summary:\n",
    "K-Means clustering revealed underlying groupings in user engagement behavior. This insight can inform better content planning, audience targeting, and platform strategies.\n",
    "\n"
   ]
  }
 ],
 "metadata": {
  "kernelspec": {
   "display_name": ".venv",
   "language": "python",
   "name": "python3"
  },
  "language_info": {
   "codemirror_mode": {
    "name": "ipython",
    "version": 3
   },
   "file_extension": ".py",
   "mimetype": "text/x-python",
   "name": "python",
   "nbconvert_exporter": "python",
   "pygments_lexer": "ipython3",
   "version": "3.12.3"
  }
 },
 "nbformat": 4,
 "nbformat_minor": 2
}
